{
 "cells": [
  {
   "cell_type": "markdown",
   "metadata": {},
   "source": [
    "### Repoducing Table 9 from the paper Constrained Risk Budgeting Portfolios."
   ]
  },
  {
   "cell_type": "code",
   "execution_count": 1,
   "metadata": {},
   "outputs": [],
   "source": [
    "import numpy as np\n",
    "\n",
    "from pyrb import ConstrainedRiskBudgeting"
   ]
  },
  {
   "cell_type": "code",
   "execution_count": null,
   "metadata": {},
   "outputs": [],
   "source": [
    "vol = [0.05, 0.05, 0.07, 0.1, 0.15, 0.15, 0.15, 0.18]\n",
    "corr = (\n",
    "    np.array(\n",
    "        [\n",
    "            [100, 80, 60, -20, -10, -20, -20, -20],\n",
    "            [80, 100, 40, -20, -20, -10, -20, -20],\n",
    "            [60, 40, 100, 50, 30, 20, 20, 30],\n",
    "            [-20, -20, 50, 100, 60, 60, 50, 60],\n",
    "            [-10, -20, 30, 60, 100, 90, 70, 70],\n",
    "            [-20, -10, 20, 60, 90, 100, 60, 70],\n",
    "            [-20, -20, 20, 50, 70, 60, 100, 70],\n",
    "            [-20, -20, 30, 60, 70, 70, 70, 100],\n",
    "        ]\n",
    "    )\n",
    "    / 100\n",
    ")\n",
    "\n",
    "cov = np.outer(vol, vol) * corr"
   ]
  },
  {
   "cell_type": "code",
   "execution_count": 3,
   "metadata": {},
   "outputs": [
    {
     "name": "stdout",
     "output_type": "stream",
     "text": [
      "solution x: [26.8306 28.6769 11.4095  9.7985  5.6135  5.9029  6.656   5.1121]\n",
      "lambda star: 4.7776\n",
      "risk contributions: [12.5 12.5 12.5 12.5 12.5 12.5 12.5 12.5]\n",
      "sigma(x): 4.7776\n",
      "sum(x): 100.0\n",
      "mu(x): 0.0\n",
      "\n"
     ]
    }
   ],
   "source": [
    "C = None\n",
    "d = None\n",
    "\n",
    "CRB = ConstrainedRiskBudgeting(cov, C=C, d=d)\n",
    "CRB.solve()\n",
    "print(CRB)"
   ]
  },
  {
   "cell_type": "code",
   "execution_count": 4,
   "metadata": {},
   "outputs": [
    {
     "name": "stdout",
     "output_type": "stream",
     "text": [
      "solver: admm_ccd\n",
      "----------------------------\n",
      "solution x: [25.7865 27.4083  9.5153  7.2905  7.058   7.7126  9.2263  6.0027]\n",
      "lambda star: 3.5907\n",
      "risk contributions: [ 8.6361  8.6355  8.6358  8.6358 15.909  16.5834 18.143  14.8214]\n",
      "sigma(x): 5.1974\n",
      "sum(x): 100.0\n",
      "mu(x): 0.0\n",
      "C@x: [-0.29999487]\n",
      "\n"
     ]
    }
   ],
   "source": [
    "C = np.array([[0, 0, 0, 0, -1.0, -1.0, -1.0, -1.0]])\n",
    "d = [-0.3]\n",
    "\n",
    "CRB = ConstrainedRiskBudgeting(cov, C=C, d=d)\n",
    "CRB.solve()\n",
    "print(CRB)"
   ]
  },
  {
   "cell_type": "code",
   "execution_count": 5,
   "metadata": {},
   "outputs": [
    {
     "name": "stdout",
     "output_type": "stream",
     "text": [
      "solver: admm_ccd\n",
      "----------------------------\n",
      "solution x: [24.5229 28.6902  9.5181  7.2675  6.9709  7.8037  9.2309  5.9958]\n",
      "lambda star: 3.5784\n",
      "risk contributions: [ 8.1634  9.1302  8.6106  8.6104 15.6934 16.8231 18.1573 14.8115]\n",
      "sigma(x): 5.1949\n",
      "sum(x): 100.0\n",
      "mu(x): 0.0\n",
      "C@x: [-0.300013   -0.05000048]\n",
      "\n"
     ]
    }
   ],
   "source": [
    "C = np.array([[0, 0, 0, 0, -1.0, -1.0, -1.0, -1.0], [1, -1, 0, 0, 1, -1, 0, 0]])\n",
    "d = [-0.3, -0.05]\n",
    "\n",
    "CRB = ConstrainedRiskBudgeting(cov, C=C, d=d)\n",
    "CRB.solve()\n",
    "print(CRB)"
   ]
  },
  {
   "cell_type": "code",
   "execution_count": 6,
   "metadata": {},
   "outputs": [
    {
     "name": "stdout",
     "output_type": "stream",
     "text": [
      "solver: admm_ccd\n",
      "----------------------------\n",
      "solution x: [ 0.158  69.2504  0.3032  0.2876 29.4802  0.2418  0.1876  0.0912]\n",
      "lambda star: 0.1838\n",
      "risk contributions: [ 2.63    2.5906  2.63    2.63   80.2581  3.267   3.1241  2.8702]\n",
      "sigma(x): 5.1158\n",
      "sum(x): 100.0\n",
      "mu(x): 9.3578\n",
      "C@x: [-0.30000893 -0.39854028]\n",
      "\n"
     ]
    }
   ],
   "source": [
    "C = np.array([[0, 0, 0, 0, -1.0, -1.0, -1.0, -1.0], [1, -1, 0, 0, 1, -1, 0, 0]])\n",
    "d = [-0.3, -0.05]\n",
    "pi = [-0.1, 0.05, 0, 0, 0.2, 0.1, 0, -0.1]  # not in the paper\n",
    "c = 2\n",
    "\n",
    "CRB = ConstrainedRiskBudgeting(cov, C=C, d=d, pi=pi, c=c)\n",
    "CRB.solve()\n",
    "print(CRB)"
   ]
  },
  {
   "cell_type": "code",
   "execution_count": null,
   "metadata": {},
   "outputs": [],
   "source": []
  }
 ],
 "metadata": {
  "kernelspec": {
   "display_name": "pyrb",
   "language": "python",
   "name": "python3"
  },
  "language_info": {
   "codemirror_mode": {
    "name": "ipython",
    "version": 3
   },
   "file_extension": ".py",
   "mimetype": "text/x-python",
   "name": "python",
   "nbconvert_exporter": "python",
   "pygments_lexer": "ipython3",
   "version": "3.12.11"
  }
 },
 "nbformat": 4,
 "nbformat_minor": 2
}
