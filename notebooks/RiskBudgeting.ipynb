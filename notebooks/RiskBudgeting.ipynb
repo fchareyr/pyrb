{
 "cells": [
  {
   "cell_type": "markdown",
   "metadata": {},
   "source": [
    "## Example"
   ]
  },
  {
   "cell_type": "code",
   "execution_count": 1,
   "metadata": {},
   "outputs": [],
   "source": [
    "import numpy as np\n",
    "import pandas as pd\n",
    "\n",
    "from pyrb import EqualRiskContribution, RiskBudgeting"
   ]
  },
  {
   "cell_type": "code",
   "execution_count": null,
   "metadata": {
    "scrolled": true
   },
   "outputs": [
    {
     "data": {
      "application/vnd.microsoft.datawrangler.viewer.v0+json": {
       "columns": [
        {
         "name": "index",
         "rawType": "object",
         "type": "string"
        },
        {
         "name": "US BONDS 10Y",
         "rawType": "float64",
         "type": "float"
        },
        {
         "name": "GERMAN BONDS 10Y",
         "rawType": "float64",
         "type": "float"
        },
        {
         "name": "S&P 500",
         "rawType": "float64",
         "type": "float"
        },
        {
         "name": "EUROSTOXX 50",
         "rawType": "float64",
         "type": "float"
        },
        {
         "name": "NIKKEI",
         "rawType": "float64",
         "type": "float"
        },
        {
         "name": "MSCI Emerging",
         "rawType": "float64",
         "type": "float"
        },
        {
         "name": "Commodities (CRB)",
         "rawType": "float64",
         "type": "float"
        },
        {
         "name": "Iboxx HY US",
         "rawType": "float64",
         "type": "float"
        },
        {
         "name": "Iboxx HY EUR",
         "rawType": "float64",
         "type": "float"
        },
        {
         "name": "Emerging Debt",
         "rawType": "float64",
         "type": "float"
        }
       ],
       "ref": "618b2210-6972-4819-b828-54c41f2ea554",
       "rows": [
        [
         "US BONDS 10Y",
         "0.004116093789210579",
         "0.0021488299866597293",
         "-0.0038587511775931547",
         "-0.005063693170749475",
         "-0.004085018513480298",
         "-0.0033809165511782817",
         "-0.001573697155475982",
         "-0.0008786642539963064",
         "-0.0002447704069903432",
         "0.0004837318503156885"
        ],
        [
         "GERMAN BONDS 10Y",
         "0.0021488299866597293",
         "0.003150398123333604",
         "-0.002808917737562959",
         "-0.005692488214395038",
         "-0.003467942485395722",
         "-0.0036038583561370193",
         "-0.0013099896732244184",
         "-0.000996464913179308",
         "-0.00026213897734202716",
         "0.000279783771952258"
        ],
        [
         "S&P 500",
         "-0.0038587511775931547",
         "-0.002808917737562959",
         "0.04257136800370238",
         "0.030958856453050056",
         "0.02989884213496205",
         "0.024753491923797194",
         "0.008172581847655295",
         "0.009951739545535151",
         "0.0008564806580939001",
         "0.004331830649428493"
        ],
        [
         "EUROSTOXX 50",
         "-0.005063693170749475",
         "-0.005692488214395038",
         "0.030958856453050056",
         "0.06434726213864714",
         "0.027036208050637476",
         "0.03199655307840396",
         "0.011019183702223372",
         "0.009402220022679438",
         "0.003168570218538353",
         "0.0062114564255138"
        ],
        [
         "NIKKEI",
         "-0.004085018513480298",
         "-0.003467942485395722",
         "0.02989884213496205",
         "0.027036208050637476",
         "0.06066758689615464",
         "0.03178648866007865",
         "0.009927636182981493",
         "0.010869930494585433",
         "0.001776735450732269",
         "0.0038363836220036145"
        ],
        [
         "MSCI Emerging",
         "-0.0033809165511782817",
         "-0.0036038583561370193",
         "0.024753491923797194",
         "0.03199655307840396",
         "0.03178648866007865",
         "0.05841513809540184",
         "0.014405212968790429",
         "0.011145246811064864",
         "0.0034684357710408485",
         "0.007879079404175642"
        ],
        [
         "Commodities (CRB)",
         "-0.001573697155475982",
         "-0.0013099896732244184",
         "0.008172581847655295",
         "0.011019183702223372",
         "0.009927636182981493",
         "0.014405212968790429",
         "0.031495589581685454",
         "0.0050225760153404546",
         "0.0014886040813938105",
         "0.0023121464913544716"
        ],
        [
         "Iboxx HY US",
         "-0.0008786642539963064",
         "-0.000996464913179308",
         "0.009951739545535151",
         "0.009402220022679438",
         "0.010869930494585433",
         "0.011145246811064864",
         "0.0050225760153404546",
         "0.011670257815587518",
         "0.0015228947914516584",
         "0.002549480663120504"
        ],
        [
         "Iboxx HY EUR",
         "-0.0002447704069903432",
         "-0.00026213897734202716",
         "0.0008564806580939001",
         "0.003168570218538353",
         "0.001776735450732269",
         "0.0034684357710408485",
         "0.0014886040813938105",
         "0.0015228947914516584",
         "0.004499579651188072",
         "0.0012815917110230788"
        ],
        [
         "Emerging Debt",
         "0.0004837318503156885",
         "0.000279783771952258",
         "0.004331830649428493",
         "0.0062114564255138",
         "0.0038363836220036145",
         "0.007879079404175642",
         "0.0023121464913544716",
         "0.002549480663120504",
         "0.0012815917110230788",
         "0.008640318959643208"
        ]
       ],
       "shape": {
        "columns": 10,
        "rows": 10
       }
      },
      "text/html": [
       "<div>\n",
       "<style scoped>\n",
       "    .dataframe tbody tr th:only-of-type {\n",
       "        vertical-align: middle;\n",
       "    }\n",
       "\n",
       "    .dataframe tbody tr th {\n",
       "        vertical-align: top;\n",
       "    }\n",
       "\n",
       "    .dataframe thead th {\n",
       "        text-align: right;\n",
       "    }\n",
       "</style>\n",
       "<table border=\"1\" class=\"dataframe\">\n",
       "  <thead>\n",
       "    <tr style=\"text-align: right;\">\n",
       "      <th></th>\n",
       "      <th>US BONDS 10Y</th>\n",
       "      <th>GERMAN BONDS 10Y</th>\n",
       "      <th>S&amp;P 500</th>\n",
       "      <th>EUROSTOXX 50</th>\n",
       "      <th>NIKKEI</th>\n",
       "      <th>MSCI Emerging</th>\n",
       "      <th>Commodities (CRB)</th>\n",
       "      <th>Iboxx HY US</th>\n",
       "      <th>Iboxx HY EUR</th>\n",
       "      <th>Emerging Debt</th>\n",
       "    </tr>\n",
       "  </thead>\n",
       "  <tbody>\n",
       "    <tr>\n",
       "      <th>US BONDS 10Y</th>\n",
       "      <td>0.004116</td>\n",
       "      <td>0.002149</td>\n",
       "      <td>-0.003859</td>\n",
       "      <td>-0.005064</td>\n",
       "      <td>-0.004085</td>\n",
       "      <td>-0.003381</td>\n",
       "      <td>-0.001574</td>\n",
       "      <td>-0.000879</td>\n",
       "      <td>-0.000245</td>\n",
       "      <td>0.000484</td>\n",
       "    </tr>\n",
       "    <tr>\n",
       "      <th>GERMAN BONDS 10Y</th>\n",
       "      <td>0.002149</td>\n",
       "      <td>0.003150</td>\n",
       "      <td>-0.002809</td>\n",
       "      <td>-0.005692</td>\n",
       "      <td>-0.003468</td>\n",
       "      <td>-0.003604</td>\n",
       "      <td>-0.001310</td>\n",
       "      <td>-0.000996</td>\n",
       "      <td>-0.000262</td>\n",
       "      <td>0.000280</td>\n",
       "    </tr>\n",
       "    <tr>\n",
       "      <th>S&amp;P 500</th>\n",
       "      <td>-0.003859</td>\n",
       "      <td>-0.002809</td>\n",
       "      <td>0.042571</td>\n",
       "      <td>0.030959</td>\n",
       "      <td>0.029899</td>\n",
       "      <td>0.024753</td>\n",
       "      <td>0.008173</td>\n",
       "      <td>0.009952</td>\n",
       "      <td>0.000856</td>\n",
       "      <td>0.004332</td>\n",
       "    </tr>\n",
       "    <tr>\n",
       "      <th>EUROSTOXX 50</th>\n",
       "      <td>-0.005064</td>\n",
       "      <td>-0.005692</td>\n",
       "      <td>0.030959</td>\n",
       "      <td>0.064347</td>\n",
       "      <td>0.027036</td>\n",
       "      <td>0.031997</td>\n",
       "      <td>0.011019</td>\n",
       "      <td>0.009402</td>\n",
       "      <td>0.003169</td>\n",
       "      <td>0.006211</td>\n",
       "    </tr>\n",
       "    <tr>\n",
       "      <th>NIKKEI</th>\n",
       "      <td>-0.004085</td>\n",
       "      <td>-0.003468</td>\n",
       "      <td>0.029899</td>\n",
       "      <td>0.027036</td>\n",
       "      <td>0.060668</td>\n",
       "      <td>0.031786</td>\n",
       "      <td>0.009928</td>\n",
       "      <td>0.010870</td>\n",
       "      <td>0.001777</td>\n",
       "      <td>0.003836</td>\n",
       "    </tr>\n",
       "    <tr>\n",
       "      <th>MSCI Emerging</th>\n",
       "      <td>-0.003381</td>\n",
       "      <td>-0.003604</td>\n",
       "      <td>0.024753</td>\n",
       "      <td>0.031997</td>\n",
       "      <td>0.031786</td>\n",
       "      <td>0.058415</td>\n",
       "      <td>0.014405</td>\n",
       "      <td>0.011145</td>\n",
       "      <td>0.003468</td>\n",
       "      <td>0.007879</td>\n",
       "    </tr>\n",
       "    <tr>\n",
       "      <th>Commodities (CRB)</th>\n",
       "      <td>-0.001574</td>\n",
       "      <td>-0.001310</td>\n",
       "      <td>0.008173</td>\n",
       "      <td>0.011019</td>\n",
       "      <td>0.009928</td>\n",
       "      <td>0.014405</td>\n",
       "      <td>0.031496</td>\n",
       "      <td>0.005023</td>\n",
       "      <td>0.001489</td>\n",
       "      <td>0.002312</td>\n",
       "    </tr>\n",
       "    <tr>\n",
       "      <th>Iboxx HY US</th>\n",
       "      <td>-0.000879</td>\n",
       "      <td>-0.000996</td>\n",
       "      <td>0.009952</td>\n",
       "      <td>0.009402</td>\n",
       "      <td>0.010870</td>\n",
       "      <td>0.011145</td>\n",
       "      <td>0.005023</td>\n",
       "      <td>0.011670</td>\n",
       "      <td>0.001523</td>\n",
       "      <td>0.002549</td>\n",
       "    </tr>\n",
       "    <tr>\n",
       "      <th>Iboxx HY EUR</th>\n",
       "      <td>-0.000245</td>\n",
       "      <td>-0.000262</td>\n",
       "      <td>0.000856</td>\n",
       "      <td>0.003169</td>\n",
       "      <td>0.001777</td>\n",
       "      <td>0.003468</td>\n",
       "      <td>0.001489</td>\n",
       "      <td>0.001523</td>\n",
       "      <td>0.004500</td>\n",
       "      <td>0.001282</td>\n",
       "    </tr>\n",
       "    <tr>\n",
       "      <th>Emerging Debt</th>\n",
       "      <td>0.000484</td>\n",
       "      <td>0.000280</td>\n",
       "      <td>0.004332</td>\n",
       "      <td>0.006211</td>\n",
       "      <td>0.003836</td>\n",
       "      <td>0.007879</td>\n",
       "      <td>0.002312</td>\n",
       "      <td>0.002549</td>\n",
       "      <td>0.001282</td>\n",
       "      <td>0.008640</td>\n",
       "    </tr>\n",
       "  </tbody>\n",
       "</table>\n",
       "</div>"
      ],
      "text/plain": [
       "                   US BONDS 10Y  GERMAN BONDS 10Y   S&P 500  EUROSTOXX 50  \\\n",
       "US BONDS 10Y           0.004116          0.002149 -0.003859     -0.005064   \n",
       "GERMAN BONDS 10Y       0.002149          0.003150 -0.002809     -0.005692   \n",
       "S&P 500               -0.003859         -0.002809  0.042571      0.030959   \n",
       "EUROSTOXX 50          -0.005064         -0.005692  0.030959      0.064347   \n",
       "NIKKEI                -0.004085         -0.003468  0.029899      0.027036   \n",
       "MSCI Emerging         -0.003381         -0.003604  0.024753      0.031997   \n",
       "Commodities (CRB)     -0.001574         -0.001310  0.008173      0.011019   \n",
       "Iboxx HY US           -0.000879         -0.000996  0.009952      0.009402   \n",
       "Iboxx HY EUR          -0.000245         -0.000262  0.000856      0.003169   \n",
       "Emerging Debt          0.000484          0.000280  0.004332      0.006211   \n",
       "\n",
       "                     NIKKEI  MSCI Emerging  Commodities (CRB)  Iboxx HY US  \\\n",
       "US BONDS 10Y      -0.004085      -0.003381          -0.001574    -0.000879   \n",
       "GERMAN BONDS 10Y  -0.003468      -0.003604          -0.001310    -0.000996   \n",
       "S&P 500            0.029899       0.024753           0.008173     0.009952   \n",
       "EUROSTOXX 50       0.027036       0.031997           0.011019     0.009402   \n",
       "NIKKEI             0.060668       0.031786           0.009928     0.010870   \n",
       "MSCI Emerging      0.031786       0.058415           0.014405     0.011145   \n",
       "Commodities (CRB)  0.009928       0.014405           0.031496     0.005023   \n",
       "Iboxx HY US        0.010870       0.011145           0.005023     0.011670   \n",
       "Iboxx HY EUR       0.001777       0.003468           0.001489     0.001523   \n",
       "Emerging Debt      0.003836       0.007879           0.002312     0.002549   \n",
       "\n",
       "                   Iboxx HY EUR  Emerging Debt  \n",
       "US BONDS 10Y          -0.000245       0.000484  \n",
       "GERMAN BONDS 10Y      -0.000262       0.000280  \n",
       "S&P 500                0.000856       0.004332  \n",
       "EUROSTOXX 50           0.003169       0.006211  \n",
       "NIKKEI                 0.001777       0.003836  \n",
       "MSCI Emerging          0.003468       0.007879  \n",
       "Commodities (CRB)      0.001489       0.002312  \n",
       "Iboxx HY US            0.001523       0.002549  \n",
       "Iboxx HY EUR           0.004500       0.001282  \n",
       "Emerging Debt          0.001282       0.008640  "
      ]
     },
     "execution_count": 2,
     "metadata": {},
     "output_type": "execute_result"
    }
   ],
   "source": [
    "# get a covariance matrix of an asset universe\n",
    "covariance_matrix = (\n",
    "    pd.read_csv(\"data.csv\", sep=\";\", index_col=0).pct_change().cov() * 260\n",
    ")\n",
    "\n",
    "covariance_matrix"
   ]
  },
  {
   "cell_type": "markdown",
   "metadata": {},
   "source": [
    "#### Solving the ERC problem"
   ]
  },
  {
   "cell_type": "code",
   "execution_count": 3,
   "metadata": {},
   "outputs": [],
   "source": [
    "ERC = EqualRiskContribution(covariance_matrix)\n",
    "ERC.solve()"
   ]
  },
  {
   "cell_type": "markdown",
   "metadata": {},
   "source": [
    " The optimal solution that gives equal risk contributions is:"
   ]
  },
  {
   "cell_type": "code",
   "execution_count": 9,
   "metadata": {},
   "outputs": [
    {
     "data": {
      "application/vnd.microsoft.datawrangler.viewer.v0+json": {
       "columns": [
        {
         "name": "index",
         "rawType": "object",
         "type": "string"
        },
        {
         "name": "optimal weights",
         "rawType": "float64",
         "type": "float"
        },
        {
         "name": "risk contribution",
         "rawType": "float64",
         "type": "float"
        },
        {
         "name": "risk contribution (scaled)",
         "rawType": "float64",
         "type": "float"
        }
       ],
       "ref": "1ce19817-14de-4b23-a9ab-5bf987569438",
       "rows": [
        [
         "US BONDS 10Y",
         "22.45",
         "0.42",
         "10.0"
        ],
        [
         "GERMAN BONDS 10Y",
         "27.51",
         "0.42",
         "10.0"
        ],
        [
         "S&P 500",
         "3.92",
         "0.42",
         "10.0"
        ],
        [
         "EUROSTOXX 50",
         "3.59",
         "0.42",
         "10.0"
        ],
        [
         "NIKKEI",
         "3.43",
         "0.42",
         "10.0"
        ],
        [
         "MSCI Emerging",
         "2.99",
         "0.42",
         "10.0"
        ],
        [
         "Commodities (CRB)",
         "5.46",
         "0.42",
         "10.0"
        ],
        [
         "Iboxx HY US",
         "7.11",
         "0.42",
         "10.0"
        ],
        [
         "Iboxx HY EUR",
         "15.28",
         "0.42",
         "10.0"
        ],
        [
         "Emerging Debt",
         "8.25",
         "0.42",
         "10.0"
        ]
       ],
       "shape": {
        "columns": 3,
        "rows": 10
       }
      },
      "text/html": [
       "<div>\n",
       "<style scoped>\n",
       "    .dataframe tbody tr th:only-of-type {\n",
       "        vertical-align: middle;\n",
       "    }\n",
       "\n",
       "    .dataframe tbody tr th {\n",
       "        vertical-align: top;\n",
       "    }\n",
       "\n",
       "    .dataframe thead th {\n",
       "        text-align: right;\n",
       "    }\n",
       "</style>\n",
       "<table border=\"1\" class=\"dataframe\">\n",
       "  <thead>\n",
       "    <tr style=\"text-align: right;\">\n",
       "      <th></th>\n",
       "      <th>optimal weights</th>\n",
       "      <th>risk contribution</th>\n",
       "      <th>risk contribution (scaled)</th>\n",
       "    </tr>\n",
       "  </thead>\n",
       "  <tbody>\n",
       "    <tr>\n",
       "      <th>US BONDS 10Y</th>\n",
       "      <td>22.45</td>\n",
       "      <td>0.42</td>\n",
       "      <td>10.0</td>\n",
       "    </tr>\n",
       "    <tr>\n",
       "      <th>GERMAN BONDS 10Y</th>\n",
       "      <td>27.51</td>\n",
       "      <td>0.42</td>\n",
       "      <td>10.0</td>\n",
       "    </tr>\n",
       "    <tr>\n",
       "      <th>S&amp;P 500</th>\n",
       "      <td>3.92</td>\n",
       "      <td>0.42</td>\n",
       "      <td>10.0</td>\n",
       "    </tr>\n",
       "    <tr>\n",
       "      <th>EUROSTOXX 50</th>\n",
       "      <td>3.59</td>\n",
       "      <td>0.42</td>\n",
       "      <td>10.0</td>\n",
       "    </tr>\n",
       "    <tr>\n",
       "      <th>NIKKEI</th>\n",
       "      <td>3.43</td>\n",
       "      <td>0.42</td>\n",
       "      <td>10.0</td>\n",
       "    </tr>\n",
       "    <tr>\n",
       "      <th>MSCI Emerging</th>\n",
       "      <td>2.99</td>\n",
       "      <td>0.42</td>\n",
       "      <td>10.0</td>\n",
       "    </tr>\n",
       "    <tr>\n",
       "      <th>Commodities (CRB)</th>\n",
       "      <td>5.46</td>\n",
       "      <td>0.42</td>\n",
       "      <td>10.0</td>\n",
       "    </tr>\n",
       "    <tr>\n",
       "      <th>Iboxx HY US</th>\n",
       "      <td>7.11</td>\n",
       "      <td>0.42</td>\n",
       "      <td>10.0</td>\n",
       "    </tr>\n",
       "    <tr>\n",
       "      <th>Iboxx HY EUR</th>\n",
       "      <td>15.28</td>\n",
       "      <td>0.42</td>\n",
       "      <td>10.0</td>\n",
       "    </tr>\n",
       "    <tr>\n",
       "      <th>Emerging Debt</th>\n",
       "      <td>8.25</td>\n",
       "      <td>0.42</td>\n",
       "      <td>10.0</td>\n",
       "    </tr>\n",
       "  </tbody>\n",
       "</table>\n",
       "</div>"
      ],
      "text/plain": [
       "                   optimal weights  risk contribution  \\\n",
       "US BONDS 10Y                 22.45               0.42   \n",
       "GERMAN BONDS 10Y             27.51               0.42   \n",
       "S&P 500                       3.92               0.42   \n",
       "EUROSTOXX 50                  3.59               0.42   \n",
       "NIKKEI                        3.43               0.42   \n",
       "MSCI Emerging                 2.99               0.42   \n",
       "Commodities (CRB)             5.46               0.42   \n",
       "Iboxx HY US                   7.11               0.42   \n",
       "Iboxx HY EUR                 15.28               0.42   \n",
       "Emerging Debt                 8.25               0.42   \n",
       "\n",
       "                   risk contribution (scaled)  \n",
       "US BONDS 10Y                             10.0  \n",
       "GERMAN BONDS 10Y                         10.0  \n",
       "S&P 500                                  10.0  \n",
       "EUROSTOXX 50                             10.0  \n",
       "NIKKEI                                   10.0  \n",
       "MSCI Emerging                            10.0  \n",
       "Commodities (CRB)                        10.0  \n",
       "Iboxx HY US                              10.0  \n",
       "Iboxx HY EUR                             10.0  \n",
       "Emerging Debt                            10.0  "
      ]
     },
     "execution_count": 9,
     "metadata": {},
     "output_type": "execute_result"
    }
   ],
   "source": [
    "optimal_weights = ERC.x\n",
    "risk_contributions = ERC.get_risk_contributions(scale=False)\n",
    "risk_contributions_scaled = ERC.get_risk_contributions()\n",
    "\n",
    "COLUMNS = [\"optimal weights\", \"risk contribution\", \"risk contribution (scaled)\"]\n",
    "\n",
    "allocation = pd.DataFrame(\n",
    "    np.concatenate(\n",
    "        [[optimal_weights, risk_contributions, risk_contributions_scaled]]\n",
    "    ).T,\n",
    "    index=covariance_matrix.index,\n",
    "    columns=COLUMNS,\n",
    ")\n",
    "\n",
    "allocation_pct = allocation.copy()\n",
    "allocation_pct[\"optimal weights\"] = (allocation_pct[\"optimal weights\"] * 100).round(2)\n",
    "allocation_pct[\"risk contribution\"] = (allocation_pct[\"risk contribution\"] * 100).round(2)\n",
    "allocation_pct[\"risk contribution (scaled)\"] = (allocation_pct[\"risk contribution (scaled)\"] * 100).round(2)\n",
    "allocation_pct"
   ]
  },
  {
   "cell_type": "markdown",
   "metadata": {},
   "source": [
    "#### Solving the risk budgeting problem\n"
   ]
  },
  {
   "cell_type": "markdown",
   "metadata": {},
   "source": [
    "Now we want the risk contributions equal to specific budgets"
   ]
  },
  {
   "cell_type": "code",
   "execution_count": 6,
   "metadata": {},
   "outputs": [],
   "source": [
    "budgets = [0.1, 0.1, 0.1, 0.2, 0.2, 0.05, 0.05, 0.05, 0.05, 0.1]\n",
    "RB = RiskBudgeting(covariance_matrix, budgets)\n",
    "RB.solve()"
   ]
  },
  {
   "cell_type": "code",
   "execution_count": null,
   "metadata": {},
   "outputs": [
    {
     "data": {
      "application/vnd.microsoft.datawrangler.viewer.v0+json": {
       "columns": [
        {
         "name": "index",
         "rawType": "object",
         "type": "string"
        },
        {
         "name": "optimal weights",
         "rawType": "float64",
         "type": "float"
        },
        {
         "name": "risk contribution",
         "rawType": "float64",
         "type": "float"
        },
        {
         "name": "risk contribution (scaled)",
         "rawType": "float64",
         "type": "float"
        }
       ],
       "ref": "7908b0f6-f4a3-4ded-996d-323cb918e151",
       "rows": [
        [
         "US BONDS 10Y",
         "24.5",
         "0.45",
         "10.0"
        ],
        [
         "GERMAN BONDS 10Y",
         "30.47",
         "0.45",
         "10.0"
        ],
        [
         "S&P 500",
         "3.79",
         "0.45",
         "10.0"
        ],
        [
         "EUROSTOXX 50",
         "6.41",
         "0.89",
         "20.0"
        ],
        [
         "NIKKEI",
         "6.18",
         "0.89",
         "20.0"
        ],
        [
         "MSCI Emerging",
         "1.64",
         "0.22",
         "5.0"
        ],
        [
         "Commodities (CRB)",
         "3.57",
         "0.22",
         "5.0"
        ],
        [
         "Iboxx HY US",
         "4.19",
         "0.22",
         "5.0"
        ],
        [
         "Iboxx HY EUR",
         "10.34",
         "0.22",
         "5.0"
        ],
        [
         "Emerging Debt",
         "8.91",
         "0.45",
         "10.0"
        ]
       ],
       "shape": {
        "columns": 3,
        "rows": 10
       }
      },
      "text/html": [
       "<div>\n",
       "<style scoped>\n",
       "    .dataframe tbody tr th:only-of-type {\n",
       "        vertical-align: middle;\n",
       "    }\n",
       "\n",
       "    .dataframe tbody tr th {\n",
       "        vertical-align: top;\n",
       "    }\n",
       "\n",
       "    .dataframe thead th {\n",
       "        text-align: right;\n",
       "    }\n",
       "</style>\n",
       "<table border=\"1\" class=\"dataframe\">\n",
       "  <thead>\n",
       "    <tr style=\"text-align: right;\">\n",
       "      <th></th>\n",
       "      <th>optimal weights</th>\n",
       "      <th>risk contribution</th>\n",
       "      <th>risk contribution (scaled)</th>\n",
       "    </tr>\n",
       "  </thead>\n",
       "  <tbody>\n",
       "    <tr>\n",
       "      <th>US BONDS 10Y</th>\n",
       "      <td>24.50</td>\n",
       "      <td>0.45</td>\n",
       "      <td>10.0</td>\n",
       "    </tr>\n",
       "    <tr>\n",
       "      <th>GERMAN BONDS 10Y</th>\n",
       "      <td>30.47</td>\n",
       "      <td>0.45</td>\n",
       "      <td>10.0</td>\n",
       "    </tr>\n",
       "    <tr>\n",
       "      <th>S&amp;P 500</th>\n",
       "      <td>3.79</td>\n",
       "      <td>0.45</td>\n",
       "      <td>10.0</td>\n",
       "    </tr>\n",
       "    <tr>\n",
       "      <th>EUROSTOXX 50</th>\n",
       "      <td>6.41</td>\n",
       "      <td>0.89</td>\n",
       "      <td>20.0</td>\n",
       "    </tr>\n",
       "    <tr>\n",
       "      <th>NIKKEI</th>\n",
       "      <td>6.18</td>\n",
       "      <td>0.89</td>\n",
       "      <td>20.0</td>\n",
       "    </tr>\n",
       "    <tr>\n",
       "      <th>MSCI Emerging</th>\n",
       "      <td>1.64</td>\n",
       "      <td>0.22</td>\n",
       "      <td>5.0</td>\n",
       "    </tr>\n",
       "    <tr>\n",
       "      <th>Commodities (CRB)</th>\n",
       "      <td>3.57</td>\n",
       "      <td>0.22</td>\n",
       "      <td>5.0</td>\n",
       "    </tr>\n",
       "    <tr>\n",
       "      <th>Iboxx HY US</th>\n",
       "      <td>4.19</td>\n",
       "      <td>0.22</td>\n",
       "      <td>5.0</td>\n",
       "    </tr>\n",
       "    <tr>\n",
       "      <th>Iboxx HY EUR</th>\n",
       "      <td>10.34</td>\n",
       "      <td>0.22</td>\n",
       "      <td>5.0</td>\n",
       "    </tr>\n",
       "    <tr>\n",
       "      <th>Emerging Debt</th>\n",
       "      <td>8.91</td>\n",
       "      <td>0.45</td>\n",
       "      <td>10.0</td>\n",
       "    </tr>\n",
       "  </tbody>\n",
       "</table>\n",
       "</div>"
      ],
      "text/plain": [
       "                   optimal weights  risk contribution  \\\n",
       "US BONDS 10Y                 24.50               0.45   \n",
       "GERMAN BONDS 10Y             30.47               0.45   \n",
       "S&P 500                       3.79               0.45   \n",
       "EUROSTOXX 50                  6.41               0.89   \n",
       "NIKKEI                        6.18               0.89   \n",
       "MSCI Emerging                 1.64               0.22   \n",
       "Commodities (CRB)             3.57               0.22   \n",
       "Iboxx HY US                   4.19               0.22   \n",
       "Iboxx HY EUR                 10.34               0.22   \n",
       "Emerging Debt                 8.91               0.45   \n",
       "\n",
       "                   risk contribution (scaled)  \n",
       "US BONDS 10Y                             10.0  \n",
       "GERMAN BONDS 10Y                         10.0  \n",
       "S&P 500                                  10.0  \n",
       "EUROSTOXX 50                             20.0  \n",
       "NIKKEI                                   20.0  \n",
       "MSCI Emerging                             5.0  \n",
       "Commodities (CRB)                         5.0  \n",
       "Iboxx HY US                               5.0  \n",
       "Iboxx HY EUR                              5.0  \n",
       "Emerging Debt                            10.0  "
      ]
     },
     "execution_count": 11,
     "metadata": {},
     "output_type": "execute_result"
    }
   ],
   "source": [
    "optimal_weights = RB.x\n",
    "risk_contributions = RB.get_risk_contributions(scale=False)\n",
    "risk_contributions_scaled = RB.get_risk_contributions()\n",
    "\n",
    "allocation = pd.DataFrame(\n",
    "    np.concatenate(\n",
    "        [[optimal_weights, risk_contributions, risk_contributions_scaled]]\n",
    "    ).T,\n",
    "    index=covariance_matrix.index,\n",
    "    columns=COLUMNS,\n",
    ")\n",
    "\n",
    "allocation_pct = allocation.copy()\n",
    "allocation_pct[\"optimal weights\"] = (allocation_pct[\"optimal weights\"] * 100).round(2)\n",
    "allocation_pct[\"risk contribution\"] = (allocation_pct[\"risk contribution\"] * 100).round(2)\n",
    "allocation_pct[\"risk contribution (scaled)\"] = (allocation_pct[\"risk contribution (scaled)\"] * 100).round(2)\n",
    "allocation_pct"
   ]
  },
  {
   "cell_type": "code",
   "execution_count": null,
   "metadata": {},
   "outputs": [],
   "source": []
  }
 ],
 "metadata": {
  "kernelspec": {
   "display_name": "pyrb",
   "language": "python",
   "name": "python3"
  },
  "language_info": {
   "codemirror_mode": {
    "name": "ipython",
    "version": 3
   },
   "file_extension": ".py",
   "mimetype": "text/x-python",
   "name": "python",
   "nbconvert_exporter": "python",
   "pygments_lexer": "ipython3",
   "version": "3.12.11"
  }
 },
 "nbformat": 4,
 "nbformat_minor": 2
}
